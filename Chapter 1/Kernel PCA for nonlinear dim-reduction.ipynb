{
 "cells": [
  {
   "cell_type": "code",
   "execution_count": 20,
   "metadata": {
    "collapsed": true
   },
   "outputs": [],
   "source": [
    "# Looking at applying non-linear transformations for\n",
    "# dimensionality reduction.\n",
    "\n",
    "# Kernel PCA is for data that is not linearly seperable.\n",
    "# This methodology projects the features onto a new plane\n",
    "# then uses PCA to linearly separate the data.\n",
    "\n",
    "# the cosine kernel compares the angle between two samples\n",
    "# in the feature space\n",
    "\n",
    "import numpy as np\n",
    "from sklearn.decomposition import KernelPCA, PCA"
   ]
  },
  {
   "cell_type": "code",
   "execution_count": 3,
   "metadata": {
    "collapsed": true
   },
   "outputs": [],
   "source": [
    "A1_mean = [1, 1]\n",
    "A1_cov = [[2, .99], [1, 1]]\n",
    "A1 = np.random.multivariate_normal(A1_mean, A1_cov, 50)"
   ]
  },
  {
   "cell_type": "code",
   "execution_count": 4,
   "metadata": {
    "collapsed": true
   },
   "outputs": [],
   "source": [
    "A2_mean = [5,5]\n",
    "A2_cov = [[2, .99], [1, 1]]\n",
    "A2 = np.random.multivariate_normal(A2_mean, A2_cov, 50)"
   ]
  },
  {
   "cell_type": "code",
   "execution_count": 16,
   "metadata": {
    "collapsed": false
   },
   "outputs": [
    {
     "data": {
      "text/plain": [
       "array([[ 0.70835939,  1.17198661],\n",
       "       [-0.26187959,  0.61186227],\n",
       "       [ 1.67889847,  0.32427944],\n",
       "       [ 0.28265039,  0.9621006 ],\n",
       "       [-0.05237279, -0.34116584],\n",
       "       [ 2.11273141,  2.40026134],\n",
       "       [ 0.05014519,  1.6727445 ],\n",
       "       [-0.64323461, -0.64652723],\n",
       "       [ 2.28506221,  1.69812994],\n",
       "       [ 0.20600501,  0.21688606]])"
      ]
     },
     "execution_count": 16,
     "metadata": {},
     "output_type": "execute_result"
    }
   ],
   "source": [
    "A = np.vstack((A1, A2))\n",
    "A[:10]"
   ]
  },
  {
   "cell_type": "code",
   "execution_count": 17,
   "metadata": {
    "collapsed": false
   },
   "outputs": [
    {
     "name": "stderr",
     "output_type": "stream",
     "text": [
      "/usr/local/lib/python2.7/site-packages/IPython/kernel/__main__.py:3: RuntimeWarning: covariance is not positive-semidefinite.\n",
      "  app.launch_new_instance()\n"
     ]
    },
    {
     "data": {
      "text/plain": [
       "array([[ 6.65076371, -1.82407337],\n",
       "       [ 4.97895322,  0.02325643],\n",
       "       [ 3.53075515,  1.62349728],\n",
       "       [ 5.41064259, -0.45375496],\n",
       "       [ 4.28297064,  0.79230852],\n",
       "       [ 5.51575627, -0.56990427],\n",
       "       [ 5.21966135, -0.24272306],\n",
       "       [ 5.04416523, -0.04880202],\n",
       "       [ 4.69706394,  0.33474058],\n",
       "       [ 4.58391759,  0.45976588]])"
      ]
     },
     "execution_count": 17,
     "metadata": {},
     "output_type": "execute_result"
    }
   ],
   "source": [
    "B_mean = [5, 0]\n",
    "B_cov = [[.5, -1], [-.9, .5]]\n",
    "B = np.random.multivariate_normal(B_mean, B_cov, 100)\n",
    "B[:10]"
   ]
  },
  {
   "cell_type": "code",
   "execution_count": 8,
   "metadata": {
    "collapsed": true
   },
   "outputs": [],
   "source": [
    "kpca = KernelPCA(kernel='cosine', n_components=1)"
   ]
  },
  {
   "cell_type": "code",
   "execution_count": 18,
   "metadata": {
    "collapsed": false
   },
   "outputs": [
    {
     "data": {
      "text/plain": [
       "array([[ 0.70835939,  1.17198661],\n",
       "       [-0.26187959,  0.61186227],\n",
       "       [ 1.67889847,  0.32427944],\n",
       "       [ 0.28265039,  0.9621006 ],\n",
       "       [-0.05237279, -0.34116584],\n",
       "       [ 2.11273141,  2.40026134],\n",
       "       [ 0.05014519,  1.6727445 ],\n",
       "       [-0.64323461, -0.64652723],\n",
       "       [ 2.28506221,  1.69812994],\n",
       "       [ 0.20600501,  0.21688606]])"
      ]
     },
     "execution_count": 18,
     "metadata": {},
     "output_type": "execute_result"
    }
   ],
   "source": [
    "AB = np.vstack((A,B))\n",
    "AB[:10]"
   ]
  },
  {
   "cell_type": "code",
   "execution_count": 10,
   "metadata": {
    "collapsed": true
   },
   "outputs": [],
   "source": [
    "AB_transformed = kpca.fit_transform(AB)"
   ]
  },
  {
   "cell_type": "code",
   "execution_count": 19,
   "metadata": {
    "collapsed": false
   },
   "outputs": [
    {
     "data": {
      "text/plain": [
       "array([[-0.62063459],\n",
       "       [-0.89313968],\n",
       "       [ 0.13495861],\n",
       "       [-0.77591416],\n",
       "       [ 1.01878287],\n",
       "       [-0.48511126],\n",
       "       [-0.87320878],\n",
       "       [ 0.61877755],\n",
       "       [-0.3022956 ],\n",
       "       [-0.45375917]])"
      ]
     },
     "execution_count": 19,
     "metadata": {},
     "output_type": "execute_result"
    }
   ],
   "source": [
    "AB_transformed[:10]"
   ]
  },
  {
   "cell_type": "code",
   "execution_count": 21,
   "metadata": {
    "collapsed": true
   },
   "outputs": [],
   "source": [
    "pca = PCA(n_components=1)"
   ]
  },
  {
   "cell_type": "code",
   "execution_count": 22,
   "metadata": {
    "collapsed": true
   },
   "outputs": [],
   "source": [
    "AB_PCA_transformed = pca.fit_transform(AB)"
   ]
  },
  {
   "cell_type": "code",
   "execution_count": 23,
   "metadata": {
    "collapsed": false
   },
   "outputs": [
    {
     "data": {
      "text/plain": [
       "array([[-0.77888382],\n",
       "       [-1.48322177],\n",
       "       [-1.46516671],\n",
       "       [-1.05248344],\n",
       "       [-2.3920157 ],\n",
       "       [ 0.65304251],\n",
       "       [-0.38669893],\n",
       "       [-2.78563695],\n",
       "       [-0.01370096],\n",
       "       [-1.80054432]])"
      ]
     },
     "execution_count": 23,
     "metadata": {},
     "output_type": "execute_result"
    }
   ],
   "source": [
    "AB_PCA_transformed[:10]"
   ]
  },
  {
   "cell_type": "code",
   "execution_count": null,
   "metadata": {
    "collapsed": true
   },
   "outputs": [],
   "source": []
  }
 ],
 "metadata": {
  "kernelspec": {
   "display_name": "Python 2",
   "language": "python",
   "name": "python2"
  },
  "language_info": {
   "codemirror_mode": {
    "name": "ipython",
    "version": 2
   },
   "file_extension": ".py",
   "mimetype": "text/x-python",
   "name": "python",
   "nbconvert_exporter": "python",
   "pygments_lexer": "ipython2",
   "version": "2.7.8"
  }
 },
 "nbformat": 4,
 "nbformat_minor": 0
}
