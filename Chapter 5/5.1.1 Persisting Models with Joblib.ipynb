{
 "cells": [
  {
   "cell_type": "code",
   "execution_count": 1,
   "metadata": {
    "collapsed": true
   },
   "outputs": [],
   "source": [
    "# Keeping models around for later use."
   ]
  },
  {
   "cell_type": "code",
   "execution_count": 2,
   "metadata": {
    "collapsed": true
   },
   "outputs": [],
   "source": [
    "from sklearn import datasets, tree"
   ]
  },
  {
   "cell_type": "code",
   "execution_count": 3,
   "metadata": {
    "collapsed": true
   },
   "outputs": [],
   "source": [
    "X, y = datasets.make_classification()"
   ]
  },
  {
   "cell_type": "code",
   "execution_count": 4,
   "metadata": {
    "collapsed": false
   },
   "outputs": [
    {
     "data": {
      "text/plain": [
       "DecisionTreeClassifier(class_weight=None, criterion='gini', max_depth=None,\n",
       "            max_features=None, max_leaf_nodes=None, min_samples_leaf=1,\n",
       "            min_samples_split=2, min_weight_fraction_leaf=0.0,\n",
       "            random_state=None, splitter='best')"
      ]
     },
     "execution_count": 4,
     "metadata": {},
     "output_type": "execute_result"
    }
   ],
   "source": [
    "dt = tree.DecisionTreeClassifier()\n",
    "dt.fit(X, y)"
   ]
  },
  {
   "cell_type": "code",
   "execution_count": 5,
   "metadata": {
    "collapsed": true
   },
   "outputs": [],
   "source": [
    "from sklearn.externals import joblib"
   ]
  },
  {
   "cell_type": "code",
   "execution_count": 6,
   "metadata": {
    "collapsed": false
   },
   "outputs": [
    {
     "data": {
      "text/plain": [
       "['dtree.clf',\n",
       " 'dtree.clf_01.npy',\n",
       " 'dtree.clf_02.npy',\n",
       " 'dtree.clf_03.npy',\n",
       " 'dtree.clf_04.npy']"
      ]
     },
     "execution_count": 6,
     "metadata": {},
     "output_type": "execute_result"
    }
   ],
   "source": [
    "joblib.dump(dt, 'dtree.clf')"
   ]
  },
  {
   "cell_type": "code",
   "execution_count": 7,
   "metadata": {
    "collapsed": true
   },
   "outputs": [],
   "source": [
    "# How it works."
   ]
  },
  {
   "cell_type": "code",
   "execution_count": 8,
   "metadata": {
    "collapsed": true
   },
   "outputs": [],
   "source": [
    "from sklearn import ensemble"
   ]
  },
  {
   "cell_type": "code",
   "execution_count": 10,
   "metadata": {
    "collapsed": false
   },
   "outputs": [
    {
     "data": {
      "text/plain": [
       "RandomForestClassifier(bootstrap=True, class_weight=None, criterion='gini',\n",
       "            max_depth=None, max_features='auto', max_leaf_nodes=None,\n",
       "            min_samples_leaf=1, min_samples_split=2,\n",
       "            min_weight_fraction_leaf=0.0, n_estimators=10, n_jobs=1,\n",
       "            oob_score=False, random_state=None, verbose=0,\n",
       "            warm_start=False)"
      ]
     },
     "execution_count": 10,
     "metadata": {},
     "output_type": "execute_result"
    }
   ],
   "source": [
    "rf = ensemble.RandomForestClassifier()\n",
    "rf.fit(X, y)"
   ]
  },
  {
   "cell_type": "code",
   "execution_count": 11,
   "metadata": {
    "collapsed": false
   },
   "outputs": [
    {
     "data": {
      "text/plain": [
       "['rf.clf',\n",
       " 'rf.clf_01.npy',\n",
       " 'rf.clf_02.npy',\n",
       " 'rf.clf_03.npy',\n",
       " 'rf.clf_04.npy',\n",
       " 'rf.clf_05.npy',\n",
       " 'rf.clf_06.npy',\n",
       " 'rf.clf_07.npy',\n",
       " 'rf.clf_08.npy',\n",
       " 'rf.clf_09.npy',\n",
       " 'rf.clf_10.npy',\n",
       " 'rf.clf_11.npy',\n",
       " 'rf.clf_12.npy',\n",
       " 'rf.clf_13.npy',\n",
       " 'rf.clf_14.npy',\n",
       " 'rf.clf_15.npy',\n",
       " 'rf.clf_16.npy',\n",
       " 'rf.clf_17.npy',\n",
       " 'rf.clf_18.npy',\n",
       " 'rf.clf_19.npy',\n",
       " 'rf.clf_20.npy',\n",
       " 'rf.clf_21.npy',\n",
       " 'rf.clf_22.npy',\n",
       " 'rf.clf_23.npy',\n",
       " 'rf.clf_24.npy',\n",
       " 'rf.clf_25.npy',\n",
       " 'rf.clf_26.npy',\n",
       " 'rf.clf_27.npy',\n",
       " 'rf.clf_28.npy',\n",
       " 'rf.clf_29.npy',\n",
       " 'rf.clf_30.npy',\n",
       " 'rf.clf_31.npy',\n",
       " 'rf.clf_32.npy',\n",
       " 'rf.clf_33.npy',\n",
       " 'rf.clf_34.npy',\n",
       " 'rf.clf_35.npy',\n",
       " 'rf.clf_36.npy',\n",
       " 'rf.clf_37.npy',\n",
       " 'rf.clf_38.npy',\n",
       " 'rf.clf_39.npy',\n",
       " 'rf.clf_40.npy',\n",
       " 'rf.clf_41.npy',\n",
       " 'rf.clf_42.npy',\n",
       " 'rf.clf_43.npy',\n",
       " 'rf.clf_44.npy',\n",
       " 'rf.clf_45.npy',\n",
       " 'rf.clf_46.npy',\n",
       " 'rf.clf_47.npy',\n",
       " 'rf.clf_48.npy',\n",
       " 'rf.clf_49.npy',\n",
       " 'rf.clf_50.npy',\n",
       " 'rf.clf_51.npy']"
      ]
     },
     "execution_count": 11,
     "metadata": {},
     "output_type": "execute_result"
    }
   ],
   "source": [
    "joblib.dump(rf, \"rf.clf\")"
   ]
  },
  {
   "cell_type": "code",
   "execution_count": 12,
   "metadata": {
    "collapsed": false
   },
   "outputs": [
    {
     "data": {
      "text/plain": [
       "['Logger',\n",
       " 'MemorizedResult',\n",
       " 'Memory',\n",
       " 'Parallel',\n",
       " 'PrintTime',\n",
       " '__builtins__',\n",
       " '__doc__',\n",
       " '__file__',\n",
       " '__name__',\n",
       " '__package__',\n",
       " '__path__',\n",
       " '__version__',\n",
       " '_compat',\n",
       " '_multiprocessing_helpers',\n",
       " 'cpu_count',\n",
       " 'delayed',\n",
       " 'disk',\n",
       " 'dump',\n",
       " 'format_stack',\n",
       " 'func_inspect',\n",
       " 'hash',\n",
       " 'hashing',\n",
       " 'load',\n",
       " 'logger',\n",
       " 'memory',\n",
       " 'my_exceptions',\n",
       " 'numpy_pickle',\n",
       " 'parallel',\n",
       " 'pool']"
      ]
     },
     "execution_count": 12,
     "metadata": {},
     "output_type": "execute_result"
    }
   ],
   "source": [
    "dir(joblib)"
   ]
  },
  {
   "cell_type": "code",
   "execution_count": null,
   "metadata": {
    "collapsed": true
   },
   "outputs": [],
   "source": []
  }
 ],
 "metadata": {
  "kernelspec": {
   "display_name": "Python 2",
   "language": "python",
   "name": "python2"
  },
  "language_info": {
   "codemirror_mode": {
    "name": "ipython",
    "version": 2
   },
   "file_extension": ".py",
   "mimetype": "text/x-python",
   "name": "python",
   "nbconvert_exporter": "python",
   "pygments_lexer": "ipython2",
   "version": "2.7.8"
  }
 },
 "nbformat": 4,
 "nbformat_minor": 0
}
