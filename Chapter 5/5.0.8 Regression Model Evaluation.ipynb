{
 "cells": [
  {
   "cell_type": "code",
   "execution_count": 1,
   "metadata": {
    "collapsed": true
   },
   "outputs": [],
   "source": [
    "%matplotlib inline"
   ]
  },
  {
   "cell_type": "code",
   "execution_count": 2,
   "metadata": {
    "collapsed": true
   },
   "outputs": [],
   "source": [
    "# This is in regards to quantifying the error for continuous\n",
    "# problems like trying to predict an age instead of a gender."
   ]
  },
  {
   "cell_type": "code",
   "execution_count": 3,
   "metadata": {
    "collapsed": true
   },
   "outputs": [],
   "source": [
    "m = 2\n",
    "b = 1\n",
    "y = lambda x: m*x+b"
   ]
  },
  {
   "cell_type": "code",
   "execution_count": 4,
   "metadata": {
    "collapsed": true
   },
   "outputs": [],
   "source": [
    "import numpy as np\n",
    "import matplotlib.pyplot as plt\n",
    "from sklearn import metrics"
   ]
  },
  {
   "cell_type": "code",
   "execution_count": 5,
   "metadata": {
    "collapsed": true
   },
   "outputs": [],
   "source": [
    "# Steps:\n",
    "#  -> Use 'y' to generate 'y_actual'\n",
    "#  -> Use 'y_actual' plus some err to generate 'y_prediction'\n",
    "#  -> Plot the differences.\n",
    "#  -> Walk through various metrics and plot some of them."
   ]
  },
  {
   "cell_type": "code",
   "execution_count": 6,
   "metadata": {
    "collapsed": true
   },
   "outputs": [],
   "source": [
    "def data(x, m=2, b=1, e=None, s=10):\n",
    "    \"\"\"\n",
    "    Args:\n",
    "        x: The x value\n",
    "        m: slope\n",
    "        b: The y intercept\n",
    "        e: Error, optional, True will give random error.\n",
    "        s: Level of noise to generate for predictions.\n",
    "    \"\"\"\n",
    "    if e is None:\n",
    "        e_i = 0\n",
    "    elif e is True:\n",
    "        e_i = np.random.normal(0, s, len(xs))\n",
    "    else:\n",
    "        e_i = e\n",
    "    \n",
    "    return x * m + b + e_i"
   ]
  },
  {
   "cell_type": "code",
   "execution_count": 7,
   "metadata": {
    "collapsed": true
   },
   "outputs": [],
   "source": [
    "# now define 'y_hat' and 'y_actual'\n",
    "from functools import partial"
   ]
  },
  {
   "cell_type": "code",
   "execution_count": 8,
   "metadata": {
    "collapsed": true
   },
   "outputs": [],
   "source": [
    "N = 100\n",
    "xs = np.sort(np.random.rand(N)*100)\n",
    "y_pred_gen = partial(data, x=xs, e=True)\n",
    "y_true_gen = partial(data, x=xs)\n",
    "\n",
    "y_pred = y_pred_gen()\n",
    "y_true = y_true_gen()"
   ]
  },
  {
   "cell_type": "code",
   "execution_count": 10,
   "metadata": {
    "collapsed": false
   },
   "outputs": [
    {
     "data": {
      "text/plain": [
       "<matplotlib.legend.Legend at 0x104961e50>"
      ]
     },
     "execution_count": 10,
     "metadata": {},
     "output_type": "execute_result"
    },
    {
     "data": {
      "image/png": "[encoded data removed]",
      "text/plain": [
       "<matplotlib.figure.Figure at 0x10473aed0>"
      ]
     },
     "metadata": {},
     "output_type": "display_data"
    }
   ],
   "source": [
    "f, ax = plt.subplots(figsize=(7,5))\n",
    "ax.set_title(\"Plotting the fit vs the underlying process.\")\n",
    "ax.scatter(xs, y_pred, label=r'$\\hat{y}$')\n",
    "ax.plot(xs, y_true, label=r'$y$')\n",
    "ax.legend(loc='best')"
   ]
  },
  {
   "cell_type": "code",
   "execution_count": 11,
   "metadata": {
    "collapsed": false
   },
   "outputs": [
    {
     "data": {
      "text/plain": [
       "(array([  1.,   4.,   8.,  16.,  31.,  21.,  11.,   4.,   1.,   3.]),\n",
       " array([-27.86802544, -22.01590476, -16.16378408, -10.3116634 ,\n",
       "         -4.45954272,   1.39257797,   7.24469865,  13.09681933,\n",
       "         18.94894001,  24.8010607 ,  30.65318138]),\n",
       " <a list of 1 Patch objects>)"
      ]
     },
     "execution_count": 11,
     "metadata": {},
     "output_type": "execute_result"
    },
    {
     "data": {
      "image/png": "[encoded data removed]",
      "text/plain": [
       "<matplotlib.figure.Figure at 0x10481e950>"
      ]
     },
     "metadata": {},
     "output_type": "display_data"
    }
   ],
   "source": [
    "e_hat = y_pred - y_true\n",
    "f, ax = plt.subplots(figsize=(7,5))\n",
    "ax.set_title(\"Residuals\")\n",
    "ax.hist(e_hat, color='r', alpha=.5, histtype='stepfilled')"
   ]
  },
  {
   "cell_type": "code",
   "execution_count": 13,
   "metadata": {
    "collapsed": false
   },
   "outputs": [
    {
     "data": {
      "text/plain": [
       "99.715701353536531"
      ]
     },
     "execution_count": 13,
     "metadata": {},
     "output_type": "execute_result"
    }
   ],
   "source": [
    "# How does it work?\n",
    "# A metric is just the mean squared error:\n",
    "# MSE = ERROR((y_true - y_pred)**2)\n",
    "metrics.mean_squared_error(y_true, y_pred)"
   ]
  },
  {
   "cell_type": "code",
   "execution_count": 14,
   "metadata": {
    "collapsed": true
   },
   "outputs": [],
   "source": [
    "# The above code will penalize large errors more than small errors\n",
    "# It is important to remember that all that's happening here is\n",
    "# applying what (probably) was the cost function for the model\n",
    "# on the test data."
   ]
  },
  {
   "cell_type": "code",
   "execution_count": 16,
   "metadata": {
    "collapsed": true
   },
   "outputs": [],
   "source": [
    "# A different option would be the absolute deviation. Take the\n",
    "# absolute value of the difference.\n",
    "# MAD = ERROR(|y_true - y_pred|)"
   ]
  },
  {
   "cell_type": "code",
   "execution_count": 17,
   "metadata": {
    "collapsed": false
   },
   "outputs": [
    {
     "data": {
      "text/plain": [
       "0.97184042052442099"
      ]
     },
     "execution_count": 17,
     "metadata": {},
     "output_type": "execute_result"
    }
   ],
   "source": [
    "# The final option is the R^2, this is 1 minus the ration of the\n",
    "# squared errors for the overall mean and the fit model. As the\n",
    "# ratio tends to 0, the R^2 tends to 1.\n",
    "\n",
    "metrics.r2_score(y_true, y_pred)"
   ]
  },
  {
   "cell_type": "code",
   "execution_count": 18,
   "metadata": {
    "collapsed": true
   },
   "outputs": [],
   "source": [
    "# R2 is deceptive though, as it cannot give the clearest sense\n",
    "# of the accuracy of the model."
   ]
  },
  {
   "cell_type": "code",
   "execution_count": null,
   "metadata": {
    "collapsed": true
   },
   "outputs": [],
   "source": []
  }
 ],
 "metadata": {
  "kernelspec": {
   "display_name": "Python 2",
   "language": "python",
   "name": "python2"
  },
  "language_info": {
   "codemirror_mode": {
    "name": "ipython",
    "version": 2
   },
   "file_extension": ".py",
   "mimetype": "text/x-python",
   "name": "python",
   "nbconvert_exporter": "python",
   "pygments_lexer": "ipython2",
   "version": "2.7.8"
  }
 },
 "nbformat": 4,
 "nbformat_minor": 0
}
