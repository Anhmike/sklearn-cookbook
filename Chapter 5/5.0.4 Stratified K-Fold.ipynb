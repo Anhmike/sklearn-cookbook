{
 "cells": [
  {
   "cell_type": "code",
   "execution_count": 1,
   "metadata": {
    "collapsed": true
   },
   "outputs": [],
   "source": [
    "%matplotlib inline"
   ]
  },
  {
   "cell_type": "code",
   "execution_count": 2,
   "metadata": {
    "collapsed": true
   },
   "outputs": [],
   "source": [
    "# Stratified K-Fold valuation is specifically designed to maintain\n",
    "# the class proportions."
   ]
  },
  {
   "cell_type": "code",
   "execution_count": 3,
   "metadata": {
    "collapsed": true
   },
   "outputs": [],
   "source": [
    "# Steps:\n",
    "#  -> Create small dataset\n",
    "#  -> Use stratified k-fold validation\n",
    "#  -> Keep it small so we can see the variations\n",
    "#  -> Plot the class proportins at each step to illustrate\n",
    "#     how the class proportions are maintained."
   ]
  },
  {
   "cell_type": "code",
   "execution_count": 4,
   "metadata": {
    "collapsed": true
   },
   "outputs": [],
   "source": [
    "import numpy as np\n",
    "import matplotlib.pyplot as plt\n",
    "from sklearn import datasets"
   ]
  },
  {
   "cell_type": "code",
   "execution_count": 5,
   "metadata": {
    "collapsed": true
   },
   "outputs": [],
   "source": [
    "X, y = datasets.make_classification(n_samples=int(1e3),\n",
    "                                    weights=[1./11])"
   ]
  },
  {
   "cell_type": "code",
   "execution_count": 6,
   "metadata": {
    "collapsed": false
   },
   "outputs": [
    {
     "data": {
      "text/plain": [
       "0.90700000000000003"
      ]
     },
     "execution_count": 6,
     "metadata": {},
     "output_type": "execute_result"
    }
   ],
   "source": [
    "# check overall class weight distribution:\n",
    "y.mean()"
   ]
  },
  {
   "cell_type": "code",
   "execution_count": 7,
   "metadata": {
    "collapsed": true
   },
   "outputs": [],
   "source": [
    "# create a stratified k-fold object for each fold. Measure the\n",
    "# proportion of verse that are 1. Plot the proportion of classes\n",
    "# by the split number to see how/if it changes."
   ]
  },
  {
   "cell_type": "code",
   "execution_count": 8,
   "metadata": {
    "collapsed": true
   },
   "outputs": [],
   "source": [
    "from sklearn import cross_validation\n",
    "n_folds = 50\n",
    "strat_kfold = cross_validation.StratifiedKFold(y,\n",
    "                                               n_folds=n_folds)"
   ]
  },
  {
   "cell_type": "code",
   "execution_count": 9,
   "metadata": {
    "collapsed": true
   },
   "outputs": [],
   "source": [
    "shuff_split = cross_validation.ShuffleSplit(n=len(y),\n",
    "                                            n_iter=n_folds)"
   ]
  },
  {
   "cell_type": "code",
   "execution_count": 10,
   "metadata": {
    "collapsed": true
   },
   "outputs": [],
   "source": [
    "kfold_y_props = []\n",
    "shuff_y_props = []\n",
    "for (k_train, k_test), (s_train, s_test) in zip(strat_kfold,\n",
    "                                                shuff_split):\n",
    "    kfold_y_props.append(y[k_train].mean())\n",
    "    shuff_y_props.append(y[s_train].mean())"
   ]
  },
  {
   "cell_type": "code",
   "execution_count": 11,
   "metadata": {
    "collapsed": false
   },
   "outputs": [
    {
     "data": {
      "text/plain": [
       "<matplotlib.legend.Legend at 0x10711b3d0>"
      ]
     },
     "execution_count": 11,
     "metadata": {},
     "output_type": "execute_result"
    },
    {
     "data": {
      "image/png": "[encoded data removed]",
      "text/plain": [
       "<matplotlib.figure.Figure at 0x107060c10>"
      ]
     },
     "metadata": {},
     "output_type": "display_data"
    }
   ],
   "source": [
    "f, ax = plt.subplots(figsize=(7,5))\n",
    "ax.plot(range(n_folds), shuff_y_props, label='Shuffle Split',\n",
    "        color='k')\n",
    "ax.plot(range(n_folds), kfold_y_props, label='Stratified',\n",
    "        color='k', ls='--')\n",
    "ax.set_title('Comparing class proportions.')\n",
    "ax.legend(loc='best')"
   ]
  },
  {
   "cell_type": "code",
   "execution_count": 12,
   "metadata": {
    "collapsed": false
   },
   "outputs": [
    {
     "name": "stdout",
     "output_type": "stream",
     "text": [
      "[  0  90 288 420]\n",
      "[  0  90 289 421]\n",
      "[  0  90 289 421]\n",
      "[  0  91 289 421]\n",
      "[  0  91 289 421]\n"
     ]
    }
   ],
   "source": [
    "three_classes = np.random.choice([1,2,3], p=[.1, .4, .5],\n",
    "                                 size=1000)\n",
    "import itertools as it\n",
    "for train, test in cross_validation.StratifiedKFold(three_classes,\n",
    "                                                    5):\n",
    "    print np.bincount(three_classes[train])"
   ]
  },
  {
   "cell_type": "code",
   "execution_count": null,
   "metadata": {
    "collapsed": true
   },
   "outputs": [],
   "source": [
    "# we got roughly the sample sizes of each class for our training\n",
    "# and testing proportions."
   ]
  }
 ],
 "metadata": {
  "kernelspec": {
   "display_name": "Python 2",
   "language": "python",
   "name": "python2"
  },
  "language_info": {
   "codemirror_mode": {
    "name": "ipython",
    "version": 2
   },
   "file_extension": ".py",
   "mimetype": "text/x-python",
   "name": "python",
   "nbconvert_exporter": "python",
   "pygments_lexer": "ipython2",
   "version": "2.7.8"
  }
 },
 "nbformat": 4,
 "nbformat_minor": 0
}
